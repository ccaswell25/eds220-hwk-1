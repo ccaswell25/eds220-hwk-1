{
 "cells": [
  {
   "cell_type": "markdown",
   "metadata": {},
   "source": [
    "# Task 4\n",
    "\n",
    "First, update the following cell to have a link to your Homework 1 GitHub repository:\n",
    "\n",
    "MY REPOSITORY LINK:\n",
    "\n",
    "https://github.com/ccaswell25/eds220-hwk-1\n",
    "\n",
    "In this task, make at least 5 commits at moments you think are adequate. We'll look at your repo to check commit history. Err on the side of commenting too much for now to get in the habit.\n",
    "\n",
    "Add comments for all your code. Err on the side of commenting too much for now.\n",
    "\n",
    "Comments in each exercise and commits will count towards your grade.\n",
    "\n",
    "This task covers topics we will see on Wednesday Oct. 11. You might want to wait until after that class to solve it.\n",
    "\n",
    "## Acknowledgement\n",
    "This task was adapted from the *Pandas Fundamentals with Earthquake Data* assignment from the e-book [Earth and Environmental Data Science](https://earth-env-data-science.github.io/intro.html)"
   ]
  },
  {
   "cell_type": "markdown",
   "metadata": {},
   "source": [
    "## About the data\n",
    "\n",
    "For this task we are going to use simplified data from the [USGS Earthquakes Database](https://earthquake.usgs.gov/earthquakes/search/). This dataset is in tabular format and has the following columns:\n",
    "\n",
    "- time = date and time of event (all events from 2014)\n",
    "- latitude = decimal degrees [-90,90]\n",
    "- longitude = decimal degrees [-360,360]\n",
    "- depth = depth of the event (km)\n",
    "- mag =  magnitude of event\n",
    "- id = event identifier\n",
    "- place = where the event took place\n",
    "- type = type of event\n",
    "\n",
    "## 1 \n",
    "\n",
    "a. Import pandas (always with standard abbreviation!).\n",
    "\n",
    "b. Use `pd.read_csv()` to import the `earthquake_data.csv` dataset and store it as `raw_eqk` (variable name).\n",
    "\n",
    "c. Look at the head of the dataframe."
   ]
  },
  {
   "cell_type": "code",
   "execution_count": 2,
   "metadata": {
    "tags": [],
    "vscode": {
     "languageId": "python"
    }
   },
   "outputs": [
    {
     "data": {
      "text/html": [
       "<div>\n",
       "<style scoped>\n",
       "    .dataframe tbody tr th:only-of-type {\n",
       "        vertical-align: middle;\n",
       "    }\n",
       "\n",
       "    .dataframe tbody tr th {\n",
       "        vertical-align: top;\n",
       "    }\n",
       "\n",
       "    .dataframe thead th {\n",
       "        text-align: right;\n",
       "    }\n",
       "</style>\n",
       "<table border=\"1\" class=\"dataframe\">\n",
       "  <thead>\n",
       "    <tr style=\"text-align: right;\">\n",
       "      <th></th>\n",
       "      <th>time</th>\n",
       "      <th>latitude</th>\n",
       "      <th>longitude</th>\n",
       "      <th>depth</th>\n",
       "      <th>mag</th>\n",
       "      <th>id</th>\n",
       "      <th>place</th>\n",
       "      <th>type</th>\n",
       "    </tr>\n",
       "  </thead>\n",
       "  <tbody>\n",
       "    <tr>\n",
       "      <th>0</th>\n",
       "      <td>2014-01-31 23:53:37.000</td>\n",
       "      <td>60.252000</td>\n",
       "      <td>-152.7081</td>\n",
       "      <td>90.20</td>\n",
       "      <td>1.10</td>\n",
       "      <td>ak11155107</td>\n",
       "      <td>26km S of Redoubt Volcano, Alaska</td>\n",
       "      <td>earthquake</td>\n",
       "    </tr>\n",
       "    <tr>\n",
       "      <th>1</th>\n",
       "      <td>2014-01-31 23:48:35.452</td>\n",
       "      <td>37.070300</td>\n",
       "      <td>-115.1309</td>\n",
       "      <td>0.00</td>\n",
       "      <td>1.33</td>\n",
       "      <td>nn00436847</td>\n",
       "      <td>32km S of Alamo, Nevada</td>\n",
       "      <td>earthquake</td>\n",
       "    </tr>\n",
       "    <tr>\n",
       "      <th>2</th>\n",
       "      <td>2014-01-31 23:47:24.000</td>\n",
       "      <td>64.671700</td>\n",
       "      <td>-149.2528</td>\n",
       "      <td>7.10</td>\n",
       "      <td>1.30</td>\n",
       "      <td>ak11151142</td>\n",
       "      <td>12km NNW of North Nenana, Alaska</td>\n",
       "      <td>earthquake</td>\n",
       "    </tr>\n",
       "    <tr>\n",
       "      <th>3</th>\n",
       "      <td>2014-01-31 23:30:54.000</td>\n",
       "      <td>63.188700</td>\n",
       "      <td>-148.9575</td>\n",
       "      <td>96.50</td>\n",
       "      <td>0.80</td>\n",
       "      <td>ak11151135</td>\n",
       "      <td>22km S of Cantwell, Alaska</td>\n",
       "      <td>earthquake</td>\n",
       "    </tr>\n",
       "    <tr>\n",
       "      <th>4</th>\n",
       "      <td>2014-01-31 23:30:52.210</td>\n",
       "      <td>32.616833</td>\n",
       "      <td>-115.6925</td>\n",
       "      <td>10.59</td>\n",
       "      <td>1.34</td>\n",
       "      <td>ci37171541</td>\n",
       "      <td>10km WNW of Progreso, Mexico</td>\n",
       "      <td>earthquake</td>\n",
       "    </tr>\n",
       "  </tbody>\n",
       "</table>\n",
       "</div>"
      ],
      "text/plain": [
       "                      time   latitude  longitude  depth   mag          id  \\\n",
       "0  2014-01-31 23:53:37.000  60.252000  -152.7081  90.20  1.10  ak11155107   \n",
       "1  2014-01-31 23:48:35.452  37.070300  -115.1309   0.00  1.33  nn00436847   \n",
       "2  2014-01-31 23:47:24.000  64.671700  -149.2528   7.10  1.30  ak11151142   \n",
       "3  2014-01-31 23:30:54.000  63.188700  -148.9575  96.50  0.80  ak11151135   \n",
       "4  2014-01-31 23:30:52.210  32.616833  -115.6925  10.59  1.34  ci37171541   \n",
       "\n",
       "                               place        type  \n",
       "0  26km S of Redoubt Volcano, Alaska  earthquake  \n",
       "1            32km S of Alamo, Nevada  earthquake  \n",
       "2   12km NNW of North Nenana, Alaska  earthquake  \n",
       "3         22km S of Cantwell, Alaska  earthquake  \n",
       "4       10km WNW of Progreso, Mexico  earthquake  "
      ]
     },
     "execution_count": 2,
     "metadata": {},
     "output_type": "execute_result"
    }
   ],
   "source": [
    "# Import the pandas package\n",
    "import pandas as pd \n",
    "\n",
    "#Read in the data:\n",
    "raw_eqk = pd.read_csv('data/earthquake_data.csv')\n",
    "\n",
    "\n",
    "#Let's take a peak at the data with a quick 5 row snapshot:\n",
    "raw_eqk.head()"
   ]
  },
  {
   "cell_type": "markdown",
   "metadata": {},
   "source": [
    "## 2\n",
    "a. Print the shape of the `raw_eqk` dataframe.\n",
    "\n",
    "b. Print the type of `raw_eqk`'s shape.\n",
    "\n",
    "c. Print *only* the number of rows by accessing it from `raw_eqk`'s shape. HINT: how do you index an element in a tuple?"
   ]
  },
  {
   "cell_type": "code",
   "execution_count": 8,
   "metadata": {
    "tags": [],
    "vscode": {
     "languageId": "python"
    }
   },
   "outputs": [
    {
     "name": "stdout",
     "output_type": "stream",
     "text": [
      "<class 'tuple'>\n",
      "number of rows :  120108\n"
     ]
    }
   ],
   "source": [
    "#a Let's see the shape of our dataframe:\n",
    "raw_eqk.shape\n",
    "#We can see there are 120,108 rows and 8 columns\n",
    "\n",
    "#b Let's get the type of our dataframe's shape:\n",
    "print(type(raw_eqk.shape))\n",
    "#It is a tuple!\n",
    "\n",
    "#c Print only the number of rows by accessing raw_eqk's shape\n",
    "print(\"number of rows : \", raw_eqk.shape[0])\n",
    "\n",
    "#There are 120108 rows"
   ]
  },
  {
   "cell_type": "markdown",
   "metadata": {},
   "source": [
    "## 3\n",
    "\n",
    "Get the unique values of the type of events."
   ]
  },
  {
   "cell_type": "code",
   "execution_count": 9,
   "metadata": {
    "tags": [],
    "vscode": {
     "languageId": "python"
    }
   },
   "outputs": [
    {
     "data": {
      "text/plain": [
       "array(['earthquake', 'quarry blast', 'quarry', 'mining explosion',\n",
       "       'rock burst', 'explosion', 'landslide', 'sonicboom', 'sonic boom',\n",
       "       'anthropogenic event', 'acoustic noise'], dtype=object)"
      ]
     },
     "execution_count": 9,
     "metadata": {},
     "output_type": "execute_result"
    }
   ],
   "source": [
    "# Let's get the unique values of the type of events: \n",
    "raw_eqk.type.unique()\n",
    "\n",
    "#We can see there are many types of events. 11 when counted."
   ]
  },
  {
   "cell_type": "markdown",
   "metadata": {},
   "source": [
    "# 4\n",
    "\n",
    "a. Select only earthquake events and store them as `eqk` (variable name)\n",
    "\n",
    "b. Update the index of `eqk` to be the `id` column of the dataframe. \n",
    "\n",
    "c. Check the new index by viewing the first 3 rows of `eqk`."
   ]
  },
  {
   "cell_type": "code",
   "execution_count": 13,
   "metadata": {
    "tags": [],
    "vscode": {
     "languageId": "python"
    }
   },
   "outputs": [
    {
     "ename": "AttributeError",
     "evalue": "'Series' object has no attribute 'set_index'",
     "output_type": "error",
     "traceback": [
      "\u001b[0;31m---------------------------------------------------------------------------\u001b[0m",
      "\u001b[0;31mAttributeError\u001b[0m                            Traceback (most recent call last)",
      "\u001b[0;32m/tmp/ipykernel_845917/420626023.py\u001b[0m in \u001b[0;36m<module>\u001b[0;34m\u001b[0m\n\u001b[1;32m      3\u001b[0m \u001b[0;34m\u001b[0m\u001b[0m\n\u001b[1;32m      4\u001b[0m \u001b[0;31m#b Update the index of eqk to be the id column of the dataframe:\u001b[0m\u001b[0;34m\u001b[0m\u001b[0;34m\u001b[0m\u001b[0m\n\u001b[0;32m----> 5\u001b[0;31m \u001b[0meqk\u001b[0m\u001b[0;34m.\u001b[0m\u001b[0mset_index\u001b[0m\u001b[0;34m(\u001b[0m\u001b[0;34m'id'\u001b[0m\u001b[0;34m)\u001b[0m\u001b[0;34m\u001b[0m\u001b[0;34m\u001b[0m\u001b[0m\n\u001b[0m\u001b[1;32m      6\u001b[0m \u001b[0;34m\u001b[0m\u001b[0m\n\u001b[1;32m      7\u001b[0m \u001b[0;31m#c Check the new index by viewing the first 3 rows of eqk\u001b[0m\u001b[0;34m\u001b[0m\u001b[0;34m\u001b[0m\u001b[0m\n",
      "\u001b[0;32m/opt/anaconda3/lib/python3.9/site-packages/pandas/core/generic.py\u001b[0m in \u001b[0;36m__getattr__\u001b[0;34m(self, name)\u001b[0m\n\u001b[1;32m   5573\u001b[0m         ):\n\u001b[1;32m   5574\u001b[0m             \u001b[0;32mreturn\u001b[0m \u001b[0mself\u001b[0m\u001b[0;34m[\u001b[0m\u001b[0mname\u001b[0m\u001b[0;34m]\u001b[0m\u001b[0;34m\u001b[0m\u001b[0;34m\u001b[0m\u001b[0m\n\u001b[0;32m-> 5575\u001b[0;31m         \u001b[0;32mreturn\u001b[0m \u001b[0mobject\u001b[0m\u001b[0;34m.\u001b[0m\u001b[0m__getattribute__\u001b[0m\u001b[0;34m(\u001b[0m\u001b[0mself\u001b[0m\u001b[0;34m,\u001b[0m \u001b[0mname\u001b[0m\u001b[0;34m)\u001b[0m\u001b[0;34m\u001b[0m\u001b[0;34m\u001b[0m\u001b[0m\n\u001b[0m\u001b[1;32m   5576\u001b[0m \u001b[0;34m\u001b[0m\u001b[0m\n\u001b[1;32m   5577\u001b[0m     \u001b[0;32mdef\u001b[0m \u001b[0m__setattr__\u001b[0m\u001b[0;34m(\u001b[0m\u001b[0mself\u001b[0m\u001b[0;34m,\u001b[0m \u001b[0mname\u001b[0m\u001b[0;34m:\u001b[0m \u001b[0mstr\u001b[0m\u001b[0;34m,\u001b[0m \u001b[0mvalue\u001b[0m\u001b[0;34m)\u001b[0m \u001b[0;34m->\u001b[0m \u001b[0;32mNone\u001b[0m\u001b[0;34m:\u001b[0m\u001b[0;34m\u001b[0m\u001b[0;34m\u001b[0m\u001b[0m\n",
      "\u001b[0;31mAttributeError\u001b[0m: 'Series' object has no attribute 'set_index'"
     ]
    }
   ],
   "source": [
    "#a Let's only get the earthquake events and store them as a new variable\n",
    "eqk = raw_eqk.type\n",
    "\n",
    "#b Update the index of eqk to be the id column of the dataframe: \n",
    "eqk.set_index('id')\n",
    "\n",
    "#c Check the new index by viewing the first 3 rows of eqk\n",
    "eqk.head(n = 3)"
   ]
  },
  {
   "cell_type": "code",
   "execution_count": 13,
   "metadata": {
    "tags": [],
    "vscode": {
     "languageId": "python"
    }
   },
   "outputs": [
    {
     "ename": "AttributeError",
     "evalue": "'Series' object has no attribute 'set_index'",
     "output_type": "error",
     "traceback": [
      "\u001b[0;31m---------------------------------------------------------------------------\u001b[0m",
      "\u001b[0;31mAttributeError\u001b[0m                            Traceback (most recent call last)",
      "\u001b[0;32m/tmp/ipykernel_845917/420626023.py\u001b[0m in \u001b[0;36m<module>\u001b[0;34m\u001b[0m\n\u001b[1;32m      3\u001b[0m \u001b[0;34m\u001b[0m\u001b[0m\n\u001b[1;32m      4\u001b[0m \u001b[0;31m#b Update the index of eqk to be the id column of the dataframe:\u001b[0m\u001b[0;34m\u001b[0m\u001b[0;34m\u001b[0m\u001b[0m\n\u001b[0;32m----> 5\u001b[0;31m \u001b[0meqk\u001b[0m\u001b[0;34m.\u001b[0m\u001b[0mset_index\u001b[0m\u001b[0;34m(\u001b[0m\u001b[0;34m'id'\u001b[0m\u001b[0;34m)\u001b[0m\u001b[0;34m\u001b[0m\u001b[0;34m\u001b[0m\u001b[0m\n\u001b[0m\u001b[1;32m      6\u001b[0m \u001b[0;34m\u001b[0m\u001b[0m\n\u001b[1;32m      7\u001b[0m \u001b[0;31m#c Check the new index by viewing the first 3 rows of eqk\u001b[0m\u001b[0;34m\u001b[0m\u001b[0;34m\u001b[0m\u001b[0m\n",
      "\u001b[0;32m/opt/anaconda3/lib/python3.9/site-packages/pandas/core/generic.py\u001b[0m in \u001b[0;36m__getattr__\u001b[0;34m(self, name)\u001b[0m\n\u001b[1;32m   5573\u001b[0m         ):\n\u001b[1;32m   5574\u001b[0m             \u001b[0;32mreturn\u001b[0m \u001b[0mself\u001b[0m\u001b[0;34m[\u001b[0m\u001b[0mname\u001b[0m\u001b[0;34m]\u001b[0m\u001b[0;34m\u001b[0m\u001b[0;34m\u001b[0m\u001b[0m\n\u001b[0;32m-> 5575\u001b[0;31m         \u001b[0;32mreturn\u001b[0m \u001b[0mobject\u001b[0m\u001b[0;34m.\u001b[0m\u001b[0m__getattribute__\u001b[0m\u001b[0;34m(\u001b[0m\u001b[0mself\u001b[0m\u001b[0;34m,\u001b[0m \u001b[0mname\u001b[0m\u001b[0;34m)\u001b[0m\u001b[0;34m\u001b[0m\u001b[0;34m\u001b[0m\u001b[0m\n\u001b[0m\u001b[1;32m   5576\u001b[0m \u001b[0;34m\u001b[0m\u001b[0m\n\u001b[1;32m   5577\u001b[0m     \u001b[0;32mdef\u001b[0m \u001b[0m__setattr__\u001b[0m\u001b[0;34m(\u001b[0m\u001b[0mself\u001b[0m\u001b[0;34m,\u001b[0m \u001b[0mname\u001b[0m\u001b[0;34m:\u001b[0m \u001b[0mstr\u001b[0m\u001b[0;34m,\u001b[0m \u001b[0mvalue\u001b[0m\u001b[0;34m)\u001b[0m \u001b[0;34m->\u001b[0m \u001b[0;32mNone\u001b[0m\u001b[0;34m:\u001b[0m\u001b[0;34m\u001b[0m\u001b[0;34m\u001b[0m\u001b[0m\n",
      "\u001b[0;31mAttributeError\u001b[0m: 'Series' object has no attribute 'set_index'"
     ]
    }
   ],
   "source": [
    "#a Let's only get the earthquake events and store them as a new variable\n",
    "eqk = raw_eqk.type\n",
    "\n",
    "#b Update the index of eqk to be the id column of the dataframe: \n",
    "eqk.set_index('id')\n",
    "\n",
    "#c Check the new index by viewing the first 3 rows of eqk\n",
    "eqk.head(n = 3)"
   ]
  },
  {
   "cell_type": "markdown",
   "metadata": {},
   "source": [
    "# 5\n",
    "\n",
    "How many events were left out of `raw_eqk` when you selected ony earthqake events? \n",
    "\n",
    "HINT: There are *many* ways you can get this information. One could be to use (2)."
   ]
  },
  {
   "cell_type": "code",
   "execution_count": 5,
   "metadata": {
    "vscode": {
     "languageId": "python"
    }
   },
   "outputs": [],
   "source": [
    "# solve exercise here"
   ]
  },
  {
   "cell_type": "markdown",
   "metadata": {},
   "source": [
    "# 6\n",
    "Without creating any new variables, plot a histogram of the eartquake's magnitudes (`eqk` data). Add a title and change the color of your graph."
   ]
  },
  {
   "cell_type": "code",
   "execution_count": 24,
   "metadata": {
    "vscode": {
     "languageId": "python"
    }
   },
   "outputs": [
    {
     "data": {
      "text/plain": [
       "<AxesSubplot:title={'center':'Distribution of Earthquake Magnitudes'}, ylabel='Frequency'>"
      ]
     },
     "execution_count": 24,
     "metadata": {},
     "output_type": "execute_result"
    },
    {
     "data": {
      "image/png": "[encoded data removed]",
      "text/plain": [
       "<Figure size 640x480 with 1 Axes>"
      ]
     },
     "metadata": {},
     "output_type": "display_data"
    }
   ],
   "source": [
    "# Below is a histogram of the earthquake magnitudes:\n",
    "raw_eqk.mag.plot(kind = 'hist',\n",
    "       title = 'Distribution of Earthquake Magnitudes',\n",
    "       xlabel = 'Magnitude',\n",
    "       ylabel = 'Frequency',\n",
    "       color = 'green')"
   ]
  },
  {
   "cell_type": "markdown",
   "metadata": {},
   "source": [
    "# 7\n",
    "\n",
    "a. Create a new variable `top20` with the 20 earthquakes with largest magnitude. HINT: [`pandas.Series.nlargest`](https://pandas.pydata.org/docs/reference/api/pandas.Series.nlargest.html)\n",
    "\n",
    "b. Create a bar plot showing the magnitude of the top 20 earthquakes. Update the title, x-axis label, y-axis label, and color of the bars. \n",
    "\n",
    "c. What is the role of the `top20` index in the graph? What would have happened if we had not updated the index?"
   ]
  },
  {
   "cell_type": "code",
   "execution_count": 20,
   "metadata": {
    "vscode": {
     "languageId": "python"
    }
   },
   "outputs": [
    {
     "data": {
      "text/plain": [
       "<AxesSubplot:title={'center':'Top 20 Earthquakes and their Magnitude'}, xlabel='Earthquake', ylabel='Magnitude'>"
      ]
     },
     "execution_count": 20,
     "metadata": {},
     "output_type": "execute_result"
    },
    {
     "data": {
      "image/png": "[encoded data removed]",
      "text/plain": [
       "<Figure size 640x480 with 1 Axes>"
      ]
     },
     "metadata": {},
     "output_type": "display_data"
    }
   ],
   "source": [
    "#a First, we create a new variable 'top20'to get the 20 earthquakes with the largest magnitude:\n",
    "top20 = raw_eqk.mag.nlargest(20)\n",
    "top20\n",
    "#I checked it out to verify we only have 20 in our new data subset\n",
    "\n",
    "#b A Bar Plot of this data:\n",
    "top20.plot(kind = 'bar',\n",
    "          title = 'Top 20 Earthquakes and their Magnitude',\n",
    "          xlabel = 'Earthquake',\n",
    "          ylabel = 'Magnitude',\n",
    "          color = 'purple')\n"
   ]
  },
  {
   "cell_type": "markdown",
   "metadata": {},
   "source": [
    "c. The role of the top20 index in the graph is the associated row numbers.\n"
   ]
  },
  {
   "cell_type": "markdown",
   "metadata": {},
   "source": [
    "# 8 \n",
    "We are interested in place, magnitude and depth of the top 20 earthquakes with largest magnitude. Select this data from the `eqk` data frame.\n",
    "\n",
    "HINT: This is a \"select rows and columns simultaneously\" from `eqk` exercise. To select the rows you could use the index of `top20`."
   ]
  },
  {
   "cell_type": "code",
   "execution_count": 22,
   "metadata": {
    "vscode": {
     "languageId": "python"
    }
   },
   "outputs": [
    {
     "data": {
      "text/html": [
       "<div>\n",
       "<style scoped>\n",
       "    .dataframe tbody tr th:only-of-type {\n",
       "        vertical-align: middle;\n",
       "    }\n",
       "\n",
       "    .dataframe tbody tr th {\n",
       "        vertical-align: top;\n",
       "    }\n",
       "\n",
       "    .dataframe thead th {\n",
       "        text-align: right;\n",
       "    }\n",
       "</style>\n",
       "<table border=\"1\" class=\"dataframe\">\n",
       "  <thead>\n",
       "    <tr style=\"text-align: right;\">\n",
       "      <th></th>\n",
       "      <th>time</th>\n",
       "      <th>latitude</th>\n",
       "      <th>longitude</th>\n",
       "      <th>depth</th>\n",
       "      <th>mag</th>\n",
       "      <th>id</th>\n",
       "      <th>place</th>\n",
       "      <th>type</th>\n",
       "    </tr>\n",
       "  </thead>\n",
       "  <tbody>\n",
       "    <tr>\n",
       "      <th>37371</th>\n",
       "      <td>2014-04-01 23:46:47.260</td>\n",
       "      <td>-19.6097</td>\n",
       "      <td>-70.7691</td>\n",
       "      <td>25.00</td>\n",
       "      <td>8.2</td>\n",
       "      <td>usc000nzvd</td>\n",
       "      <td>94km NW of Iquique, Chile</td>\n",
       "      <td>earthquake</td>\n",
       "    </tr>\n",
       "    <tr>\n",
       "      <th>50562</th>\n",
       "      <td>2014-06-23 20:53:09.700</td>\n",
       "      <td>51.8486</td>\n",
       "      <td>178.7352</td>\n",
       "      <td>109.00</td>\n",
       "      <td>7.9</td>\n",
       "      <td>usc000rki5</td>\n",
       "      <td>19km SE of Little Sitkin Island, Alaska</td>\n",
       "      <td>earthquake</td>\n",
       "    </tr>\n",
       "    <tr>\n",
       "      <th>36918</th>\n",
       "      <td>2014-04-03 02:43:13.110</td>\n",
       "      <td>-20.5709</td>\n",
       "      <td>-70.4931</td>\n",
       "      <td>22.40</td>\n",
       "      <td>7.7</td>\n",
       "      <td>usc000p27i</td>\n",
       "      <td>53km SW of Iquique, Chile</td>\n",
       "      <td>earthquake</td>\n",
       "    </tr>\n",
       "    <tr>\n",
       "      <th>33808</th>\n",
       "      <td>2014-04-12 20:14:39.300</td>\n",
       "      <td>-11.2701</td>\n",
       "      <td>162.1481</td>\n",
       "      <td>22.56</td>\n",
       "      <td>7.6</td>\n",
       "      <td>usc000phx5</td>\n",
       "      <td>93km SSE of Kirakira, Solomon Islands</td>\n",
       "      <td>earthquake</td>\n",
       "    </tr>\n",
       "    <tr>\n",
       "      <th>31496</th>\n",
       "      <td>2014-04-19 13:28:00.810</td>\n",
       "      <td>-6.7547</td>\n",
       "      <td>155.0241</td>\n",
       "      <td>43.37</td>\n",
       "      <td>7.5</td>\n",
       "      <td>usb000pr89</td>\n",
       "      <td>70km SW of Panguna, Papua New Guinea</td>\n",
       "      <td>earthquake</td>\n",
       "    </tr>\n",
       "    <tr>\n",
       "      <th>33537</th>\n",
       "      <td>2014-04-13 12:36:19.230</td>\n",
       "      <td>-11.4633</td>\n",
       "      <td>162.0511</td>\n",
       "      <td>39.00</td>\n",
       "      <td>7.4</td>\n",
       "      <td>usc000piqj</td>\n",
       "      <td>112km S of Kirakira, Solomon Islands</td>\n",
       "      <td>earthquake</td>\n",
       "    </tr>\n",
       "    <tr>\n",
       "      <th>95913</th>\n",
       "      <td>2014-10-14 03:51:34.460</td>\n",
       "      <td>12.5262</td>\n",
       "      <td>-88.1225</td>\n",
       "      <td>40.00</td>\n",
       "      <td>7.3</td>\n",
       "      <td>usb000slwn</td>\n",
       "      <td>74km S of Intipuca, El Salvador</td>\n",
       "      <td>earthquake</td>\n",
       "    </tr>\n",
       "    <tr>\n",
       "      <th>31850</th>\n",
       "      <td>2014-04-18 14:27:24.920</td>\n",
       "      <td>17.3970</td>\n",
       "      <td>-100.9723</td>\n",
       "      <td>24.00</td>\n",
       "      <td>7.2</td>\n",
       "      <td>usb000pq41</td>\n",
       "      <td>33km ESE of Petatlan, Mexico</td>\n",
       "      <td>earthquake</td>\n",
       "    </tr>\n",
       "    <tr>\n",
       "      <th>34318</th>\n",
       "      <td>2014-04-11 07:07:23.130</td>\n",
       "      <td>-6.5858</td>\n",
       "      <td>155.0485</td>\n",
       "      <td>60.53</td>\n",
       "      <td>7.1</td>\n",
       "      <td>usc000pft9</td>\n",
       "      <td>56km WSW of Panguna, Papua New Guinea</td>\n",
       "      <td>earthquake</td>\n",
       "    </tr>\n",
       "    <tr>\n",
       "      <th>106285</th>\n",
       "      <td>2014-11-15 02:31:41.720</td>\n",
       "      <td>1.8929</td>\n",
       "      <td>126.5217</td>\n",
       "      <td>45.00</td>\n",
       "      <td>7.1</td>\n",
       "      <td>usc000sxh8</td>\n",
       "      <td>154km NW of Kota Ternate, Indonesia</td>\n",
       "      <td>earthquake</td>\n",
       "    </tr>\n",
       "    <tr>\n",
       "      <th>111052</th>\n",
       "      <td>2014-11-01 18:57:22.380</td>\n",
       "      <td>-19.6903</td>\n",
       "      <td>-177.7587</td>\n",
       "      <td>434.00</td>\n",
       "      <td>7.1</td>\n",
       "      <td>usc000stdc</td>\n",
       "      <td>144km NE of Ndoi Island, Fiji</td>\n",
       "      <td>earthquake</td>\n",
       "    </tr>\n",
       "    <tr>\n",
       "      <th>97602</th>\n",
       "      <td>2014-10-09 02:14:31.440</td>\n",
       "      <td>-32.1082</td>\n",
       "      <td>-110.8112</td>\n",
       "      <td>16.54</td>\n",
       "      <td>7.0</td>\n",
       "      <td>usb000sk6k</td>\n",
       "      <td>Southern East Pacific Rise</td>\n",
       "      <td>earthquake</td>\n",
       "    </tr>\n",
       "    <tr>\n",
       "      <th>14025</th>\n",
       "      <td>2014-02-12 09:19:49.060</td>\n",
       "      <td>35.9053</td>\n",
       "      <td>82.5864</td>\n",
       "      <td>10.00</td>\n",
       "      <td>6.9</td>\n",
       "      <td>usc000mnvj</td>\n",
       "      <td>272km ESE of Hotan, China</td>\n",
       "      <td>earthquake</td>\n",
       "    </tr>\n",
       "    <tr>\n",
       "      <th>37367</th>\n",
       "      <td>2014-04-01 23:57:58.790</td>\n",
       "      <td>-19.8927</td>\n",
       "      <td>-70.9455</td>\n",
       "      <td>28.42</td>\n",
       "      <td>6.9</td>\n",
       "      <td>usc000nzwm</td>\n",
       "      <td>91km WNW of Iquique, Chile</td>\n",
       "      <td>earthquake</td>\n",
       "    </tr>\n",
       "    <tr>\n",
       "      <th>39915</th>\n",
       "      <td>2014-05-24 09:25:02.440</td>\n",
       "      <td>40.2893</td>\n",
       "      <td>25.3889</td>\n",
       "      <td>6.43</td>\n",
       "      <td>6.9</td>\n",
       "      <td>usb000r2hc</td>\n",
       "      <td>22km SSW of Kamariotissa, Greece</td>\n",
       "      <td>earthquake</td>\n",
       "    </tr>\n",
       "    <tr>\n",
       "      <th>47934</th>\n",
       "      <td>2014-06-29 07:52:55.170</td>\n",
       "      <td>-55.4703</td>\n",
       "      <td>-28.3669</td>\n",
       "      <td>8.00</td>\n",
       "      <td>6.9</td>\n",
       "      <td>usc000rngj</td>\n",
       "      <td>154km NNW of Visokoi Island,</td>\n",
       "      <td>earthquake</td>\n",
       "    </tr>\n",
       "    <tr>\n",
       "      <th>50609</th>\n",
       "      <td>2014-06-23 19:19:15.940</td>\n",
       "      <td>-29.9772</td>\n",
       "      <td>-177.7247</td>\n",
       "      <td>20.00</td>\n",
       "      <td>6.9</td>\n",
       "      <td>usc000rkg5</td>\n",
       "      <td>80km SSE of Raoul Island, New Zealand</td>\n",
       "      <td>earthquake</td>\n",
       "    </tr>\n",
       "    <tr>\n",
       "      <th>61294</th>\n",
       "      <td>2014-07-21 14:54:41.000</td>\n",
       "      <td>-19.8015</td>\n",
       "      <td>-178.4001</td>\n",
       "      <td>615.42</td>\n",
       "      <td>6.9</td>\n",
       "      <td>usb000ruzk</td>\n",
       "      <td>99km NNE of Ndoi Island, Fiji</td>\n",
       "      <td>earthquake</td>\n",
       "    </tr>\n",
       "    <tr>\n",
       "      <th>66278</th>\n",
       "      <td>2014-07-07 11:23:54.780</td>\n",
       "      <td>14.7240</td>\n",
       "      <td>-92.4614</td>\n",
       "      <td>53.00</td>\n",
       "      <td>6.9</td>\n",
       "      <td>usc000rr6a</td>\n",
       "      <td>4km W of Puerto Madero, Mexico</td>\n",
       "      <td>earthquake</td>\n",
       "    </tr>\n",
       "    <tr>\n",
       "      <th>78063</th>\n",
       "      <td>2014-08-03 00:22:03.680</td>\n",
       "      <td>0.8295</td>\n",
       "      <td>146.1688</td>\n",
       "      <td>13.00</td>\n",
       "      <td>6.9</td>\n",
       "      <td>usb000rzki</td>\n",
       "      <td>Federated States of Micronesia region</td>\n",
       "      <td>earthquake</td>\n",
       "    </tr>\n",
       "  </tbody>\n",
       "</table>\n",
       "</div>"
      ],
      "text/plain": [
       "                           time  latitude  longitude   depth  mag          id  \\\n",
       "37371   2014-04-01 23:46:47.260  -19.6097   -70.7691   25.00  8.2  usc000nzvd   \n",
       "50562   2014-06-23 20:53:09.700   51.8486   178.7352  109.00  7.9  usc000rki5   \n",
       "36918   2014-04-03 02:43:13.110  -20.5709   -70.4931   22.40  7.7  usc000p27i   \n",
       "33808   2014-04-12 20:14:39.300  -11.2701   162.1481   22.56  7.6  usc000phx5   \n",
       "31496   2014-04-19 13:28:00.810   -6.7547   155.0241   43.37  7.5  usb000pr89   \n",
       "33537   2014-04-13 12:36:19.230  -11.4633   162.0511   39.00  7.4  usc000piqj   \n",
       "95913   2014-10-14 03:51:34.460   12.5262   -88.1225   40.00  7.3  usb000slwn   \n",
       "31850   2014-04-18 14:27:24.920   17.3970  -100.9723   24.00  7.2  usb000pq41   \n",
       "34318   2014-04-11 07:07:23.130   -6.5858   155.0485   60.53  7.1  usc000pft9   \n",
       "106285  2014-11-15 02:31:41.720    1.8929   126.5217   45.00  7.1  usc000sxh8   \n",
       "111052  2014-11-01 18:57:22.380  -19.6903  -177.7587  434.00  7.1  usc000stdc   \n",
       "97602   2014-10-09 02:14:31.440  -32.1082  -110.8112   16.54  7.0  usb000sk6k   \n",
       "14025   2014-02-12 09:19:49.060   35.9053    82.5864   10.00  6.9  usc000mnvj   \n",
       "37367   2014-04-01 23:57:58.790  -19.8927   -70.9455   28.42  6.9  usc000nzwm   \n",
       "39915   2014-05-24 09:25:02.440   40.2893    25.3889    6.43  6.9  usb000r2hc   \n",
       "47934   2014-06-29 07:52:55.170  -55.4703   -28.3669    8.00  6.9  usc000rngj   \n",
       "50609   2014-06-23 19:19:15.940  -29.9772  -177.7247   20.00  6.9  usc000rkg5   \n",
       "61294   2014-07-21 14:54:41.000  -19.8015  -178.4001  615.42  6.9  usb000ruzk   \n",
       "66278   2014-07-07 11:23:54.780   14.7240   -92.4614   53.00  6.9  usc000rr6a   \n",
       "78063   2014-08-03 00:22:03.680    0.8295   146.1688   13.00  6.9  usb000rzki   \n",
       "\n",
       "                                          place        type  \n",
       "37371                 94km NW of Iquique, Chile  earthquake  \n",
       "50562   19km SE of Little Sitkin Island, Alaska  earthquake  \n",
       "36918                 53km SW of Iquique, Chile  earthquake  \n",
       "33808     93km SSE of Kirakira, Solomon Islands  earthquake  \n",
       "31496      70km SW of Panguna, Papua New Guinea  earthquake  \n",
       "33537      112km S of Kirakira, Solomon Islands  earthquake  \n",
       "95913           74km S of Intipuca, El Salvador  earthquake  \n",
       "31850              33km ESE of Petatlan, Mexico  earthquake  \n",
       "34318     56km WSW of Panguna, Papua New Guinea  earthquake  \n",
       "106285      154km NW of Kota Ternate, Indonesia  earthquake  \n",
       "111052            144km NE of Ndoi Island, Fiji  earthquake  \n",
       "97602                Southern East Pacific Rise  earthquake  \n",
       "14025                 272km ESE of Hotan, China  earthquake  \n",
       "37367                91km WNW of Iquique, Chile  earthquake  \n",
       "39915          22km SSW of Kamariotissa, Greece  earthquake  \n",
       "47934             154km NNW of Visokoi Island,   earthquake  \n",
       "50609     80km SSE of Raoul Island, New Zealand  earthquake  \n",
       "61294             99km NNE of Ndoi Island, Fiji  earthquake  \n",
       "66278            4km W of Puerto Madero, Mexico  earthquake  \n",
       "78063     Federated States of Micronesia region  earthquake  "
      ]
     },
     "execution_count": 22,
     "metadata": {},
     "output_type": "execute_result"
    }
   ],
   "source": [
    "# Using the index of top20 below:\n",
    "raw_eqk.loc[top20.index]"
   ]
  },
  {
   "cell_type": "markdown",
   "metadata": {},
   "source": [
    "# 9 \n",
    "\n",
    "Without creating any new variables, visualize the locations of eartquakes with magnitude greter than 5 by creating a scatter plot of their latitude and longitude. Make the following adjustments to the basic plot:\n",
    "- update the title\n",
    "- color the points by magnitude (HINT: [check the `c` parameter here](https://pandas.pydata.org/pandas-docs/stable/reference/api/pandas.DataFrame.plot.scatter.html))\n",
    "- adjust the `alpha` (transparency) argument\n",
    "- adjust the `colormap` argument to maket it look prettier. [Click for ideas of sequential colormaps.](https://matplotlib.org/stable/users/explain/colors/colormaps.html)\n"
   ]
  },
  {
   "cell_type": "code",
   "execution_count": 9,
   "metadata": {
    "vscode": {
     "languageId": "python"
    }
   },
   "outputs": [],
   "source": [
    "# solve exercise here"
   ]
  }
 ],
 "metadata": {
  "kernelspec": {
   "display_name": "Anaconda 3 (Base)",
   "language": "python",
   "name": "base"
  },
  "language_info": {
   "codemirror_mode": {
    "name": "ipython",
    "version": 3
   },
   "file_extension": ".py",
   "mimetype": "text/x-python",
   "name": "python",
   "nbconvert_exporter": "python",
   "pygments_lexer": "ipython3",
   "version": "3.9.13"
  }
 },
 "nbformat": 4,
 "nbformat_minor": 4
}
